{
  "nbformat": 4,
  "nbformat_minor": 0,
  "metadata": {
    "colab": {
      "provenance": []
    },
    "kernelspec": {
      "name": "python3",
      "display_name": "Python 3"
    },
    "language_info": {
      "name": "python"
    }
  },
  "cells": [
    {
      "cell_type": "markdown",
      "source": [
        "API extraction of Yelp Fusion API (data from Santa Barbara, Goleta, Isla Vista) are stored in .csv files"
      ],
      "metadata": {
        "id": "ZDxAXpy9DMU3"
      }
    },
    {
      "cell_type": "code",
      "source": [
        "from google.colab import drive\n",
        "drive.mount('/content/drive')"
      ],
      "metadata": {
        "id": "0nQgjqMiw3g3",
        "outputId": "e316b266-588f-4155-e14e-d42a8723f7ad",
        "colab": {
          "base_uri": "https://localhost:8080/"
        }
      },
      "execution_count": null,
      "outputs": [
        {
          "output_type": "stream",
          "name": "stdout",
          "text": [
            "Mounted at /content/drive\n"
          ]
        }
      ]
    },
    {
      "cell_type": "code",
      "execution_count": null,
      "metadata": {
        "id": "6_mu56AkKkib"
      },
      "outputs": [],
      "source": [
        "# !pip install flask\n",
        "# !pip install requests"
      ]
    },
    {
      "cell_type": "code",
      "source": [
        "from flask import Flask, render_template, request  # Import Flask and related modules for web handling\n",
        "import requests  # Import requests library to make HTTP requests\n",
        "import http.client\n",
        "from google.colab import files\n",
        "import json\n",
        "import pandas as pd\n",
        "import numpy as np"
      ],
      "metadata": {
        "id": "dbJgsIuULUGN"
      },
      "execution_count": null,
      "outputs": []
    },
    {
      "cell_type": "code",
      "source": [
        "# Yelp API credentials\n",
        "client_id = 'LcBbj5dNVQzQ4uc2vEb95g'\n",
        "api_key = 'EXkqJVsBaTi_X3W99nzVXhCSEYfj8ahAxYaGRKQe5EIrJpgqbWHHMJ7Pg1T0RxWhimJA6eGiwzZuD1s-0MsQ7sFB6doDa4hW8ZW01680fxU172UkM4ZDFTWyF-RUZ3Yx'\n",
        "\n",
        "# Yelp API endpoint for searching businesses\n",
        "url = 'https://api.yelp.com/v3/businesses/search'"
      ],
      "metadata": {
        "id": "AOtc6eD7L5Hp"
      },
      "execution_count": null,
      "outputs": []
    },
    {
      "cell_type": "code",
      "source": [
        "# function to return a dataframe of 50 restaurants in area\n",
        "def get_restaurants(city, term='restaurants', limit = 50):\n",
        "    # Construct the Yelp API URL\n",
        "    url = 'https://api.yelp.com/v3/businesses/search'\n",
        "\n",
        "    # Set up the headers for authentication\n",
        "    headers = {\n",
        "        'Authorization': f'Bearer {api_key}'\n",
        "    }\n",
        "\n",
        "    # Define the parameters for the request\n",
        "    params = {\n",
        "        'location': city,\n",
        "        'term': term,\n",
        "        'limit': limit\n",
        "    }\n",
        "\n",
        "    # Send a GET request to the Yelp API\n",
        "    response = requests.get(url, headers=headers, params=params)\n",
        "\n",
        "    # Check if the response was successful\n",
        "    if response.status_code == 200:\n",
        "        # Return the JSON data AS A DATAFRAME if the request was successful\n",
        "        response_data = response.json()\n",
        "\n",
        "        restaurants_df = pd.DataFrame()\n",
        "        for i in range(len(response_data['businesses'])):\n",
        "          # input restaurant information\n",
        "          restaurants_df.loc[i, 'Business_ID'] = response_data['businesses'][i].get('id', None)\n",
        "          restaurants_df.loc[i, 'Name'] = response_data['businesses'][i].get('name', None)\n",
        "          restaurants_df.loc[i, 'NumReviews'] = response_data['businesses'][i].get('review_count', None)\n",
        "          restaurants_df.loc[i, 'Rating'] = response_data['businesses'][i].get('rating', None)\n",
        "\n",
        "          # input information from categories tab\n",
        "          categories = response_data['businesses'][i].get('categories', [])\n",
        "          if len(categories) > 0:\n",
        "            restaurants_df.loc[i, 'Cuisine'] = categories[0]['title']\n",
        "          if len(categories) > 1:\n",
        "            restaurants_df.loc[i, 'Cuisine1'] = categories[1]['title']\n",
        "          if len(categories) > 2:\n",
        "            restaurants_df.loc[i, 'Cuisine2'] = categories[2]['title']\n",
        "\n",
        "          restaurants_df.loc[i, 'PriceRange'] = response_data['businesses'][i].get('price', None)\n",
        "          restaurants_df.loc[i, 'Takeout'] = ', '.join(response_data['businesses'][i].get('transactions', [])) # rewrite list as string\n",
        "          restaurants_df.loc[i, 'Waitlist_Needed'] = response_data['businesses'][i].get('attributes', {}).get('waitlist_reservation', None)\n",
        "\n",
        "          # business hours (check if any open hours)\n",
        "          business_hours = response_data['businesses'][i].get('business_hours', [])\n",
        "          if business_hours:\n",
        "              open_hours = business_hours[0].get('open', [])\n",
        "          else:\n",
        "              open_hours = []\n",
        "          days = ['Su', 'M', 'T', 'W', 'R', 'F', 'Sa']\n",
        "\n",
        "          for j in range(7):\n",
        "              if j < len(open_hours):\n",
        "                  restaurants_df.loc[i, f'{days[j]}_start'] = open_hours[j].get('start', None)\n",
        "                  restaurants_df.loc[i, f'{days[j]}_end'] = open_hours[j].get('end', None)\n",
        "              else:\n",
        "                  restaurants_df.loc[i, f'{days[j]}_start'] = None\n",
        "                  restaurants_df.loc[i, f'{days[j]}_end'] = None\n",
        "\n",
        "          restaurants_df.loc[i, 'Latitude'] = response_data['businesses'][i].get('coordinates', {}).get('latitude', None)\n",
        "          restaurants_df.loc[i, 'Longitude'] = response_data['businesses'][i].get('coordinates', {}).get('longitude', None)\n",
        "          restaurants_df.loc[i, 'Address'] = response_data['businesses'][i].get('location', {}).get('address1', None)\n",
        "          restaurants_df.loc[i, 'City'] = response_data['businesses'][i].get('location', {}).get('city', None)\n",
        "          restaurants_df.loc[i, 'State'] = response_data['businesses'][i].get('location', {}).get('state', None)\n",
        "          restaurants_df.loc[i, 'Zip'] = response_data['businesses'][i].get('location', {}).get('zip_code', None)\n",
        "          restaurants_df.loc[i, 'Menu'] = response_data['businesses'][i].get('attributes', {}).get('menu_url', None)\n",
        "\n",
        "        return restaurants_df\n",
        "    else:\n",
        "        # Return None if there was an error\n",
        "        return None"
      ],
      "metadata": {
        "id": "9yowwOf9Le7D"
      },
      "execution_count": null,
      "outputs": []
    },
    {
      "cell_type": "code",
      "source": [
        "sb_restaurants = get_restaurants('Santa Barbara')"
      ],
      "metadata": {
        "id": "HJFdFn2_OalH"
      },
      "execution_count": null,
      "outputs": []
    },
    {
      "cell_type": "code",
      "source": [
        "iv_restaurants = get_restaurants('Isla Vista')"
      ],
      "metadata": {
        "id": "a0xUchFz5WV7"
      },
      "execution_count": null,
      "outputs": []
    },
    {
      "cell_type": "code",
      "source": [
        "sb_restaurants.keys()"
      ],
      "metadata": {
        "colab": {
          "base_uri": "https://localhost:8080/"
        },
        "id": "SSNWxG1YOztd",
        "outputId": "2fb7d626-c40f-4471-abe0-93bcf6ff36e2"
      },
      "execution_count": null,
      "outputs": [
        {
          "output_type": "execute_result",
          "data": {
            "text/plain": [
              "dict_keys(['businesses', 'total', 'region'])"
            ]
          },
          "metadata": {},
          "execution_count": 14
        }
      ]
    },
    {
      "cell_type": "code",
      "source": [
        "iv_restaurants.to_csv('iv_restaurants.csv', index=False)\n",
        "files.download('iv_restaurants.csv')"
      ],
      "metadata": {
        "colab": {
          "base_uri": "https://localhost:8080/",
          "height": 17
        },
        "id": "BhsO8FW913Dq",
        "outputId": "cf1ea444-2c87-4904-f4b0-e4ed8fe0edcf"
      },
      "execution_count": null,
      "outputs": [
        {
          "output_type": "display_data",
          "data": {
            "text/plain": [
              "<IPython.core.display.Javascript object>"
            ],
            "application/javascript": [
              "\n",
              "    async function download(id, filename, size) {\n",
              "      if (!google.colab.kernel.accessAllowed) {\n",
              "        return;\n",
              "      }\n",
              "      const div = document.createElement('div');\n",
              "      const label = document.createElement('label');\n",
              "      label.textContent = `Downloading \"${filename}\": `;\n",
              "      div.appendChild(label);\n",
              "      const progress = document.createElement('progress');\n",
              "      progress.max = size;\n",
              "      div.appendChild(progress);\n",
              "      document.body.appendChild(div);\n",
              "\n",
              "      const buffers = [];\n",
              "      let downloaded = 0;\n",
              "\n",
              "      const channel = await google.colab.kernel.comms.open(id);\n",
              "      // Send a message to notify the kernel that we're ready.\n",
              "      channel.send({})\n",
              "\n",
              "      for await (const message of channel.messages) {\n",
              "        // Send a message to notify the kernel that we're ready.\n",
              "        channel.send({})\n",
              "        if (message.buffers) {\n",
              "          for (const buffer of message.buffers) {\n",
              "            buffers.push(buffer);\n",
              "            downloaded += buffer.byteLength;\n",
              "            progress.value = downloaded;\n",
              "          }\n",
              "        }\n",
              "      }\n",
              "      const blob = new Blob(buffers, {type: 'application/binary'});\n",
              "      const a = document.createElement('a');\n",
              "      a.href = window.URL.createObjectURL(blob);\n",
              "      a.download = filename;\n",
              "      div.appendChild(a);\n",
              "      a.click();\n",
              "      div.remove();\n",
              "    }\n",
              "  "
            ]
          },
          "metadata": {}
        },
        {
          "output_type": "display_data",
          "data": {
            "text/plain": [
              "<IPython.core.display.Javascript object>"
            ],
            "application/javascript": [
              "download(\"download_b3c7c96d-d0c3-4498-8a99-52b5ac0ced84\", \"iv_restaurants.csv\", 12850)"
            ]
          },
          "metadata": {}
        }
      ]
    },
    {
      "cell_type": "markdown",
      "source": [
        "Code below this is to test if we can extract REVIEWS (if necessary)"
      ],
      "metadata": {
        "id": "LPuLCUyrEpNs"
      }
    },
    {
      "cell_type": "code",
      "source": [
        "def get_reviews(business_id):\n",
        "    url = f'https://api.yelp.com/v3/businesses/{business_id}/reviews'\n",
        "\n",
        "    headers = {\n",
        "        'Authorization': f'Bearer {api_key}'\n",
        "    }\n",
        "\n",
        "    conn = http.client.HTTPSConnection(\"api.yelp.com\")\n",
        "    conn.request(\"GET\", f\"/v3/businesses/{business_id}/reviews\", headers=headers)\n",
        "    res = conn.getresponse()\n",
        "    data = res.read()\n",
        "    print(data.decode(\"utf-8\"))\n",
        "\n",
        "#    response = requests.get(url, headers=headers)\n",
        "\n",
        "#    if response.status_code == 200:\n",
        "#        return response.json().get('reviews', [])\n",
        "#    else:\n",
        "#        print(f\"Error fetching reviews for {business_id}: {response.status_code} - {response.text}\")\n",
        "#        return []"
      ],
      "metadata": {
        "id": "56hjDHmNUxuJ"
      },
      "execution_count": null,
      "outputs": []
    },
    {
      "cell_type": "code",
      "source": [
        "url = \"https://api.yelp.com/v3/businesses/secret-bao-santa-barbara/reviews?limit=20&sort_by=yelp_sort\"\n",
        "\n",
        "headers = {\n",
        "    \"accept\": \"application/json\",\n",
        "    \"Authorization\": f'Bearer {api_key}'\n",
        "}\n",
        "\n",
        "response = requests.get(url, headers=headers)"
      ],
      "metadata": {
        "id": "q6cpU-PQZBiS"
      },
      "execution_count": null,
      "outputs": []
    },
    {
      "cell_type": "code",
      "source": [
        "print(response.status_code)"
      ],
      "metadata": {
        "colab": {
          "base_uri": "https://localhost:8080/"
        },
        "id": "ntPshY08i76Z",
        "outputId": "7ba40e4b-5c8c-4811-bb5f-8a73f80df8af"
      },
      "execution_count": null,
      "outputs": [
        {
          "output_type": "stream",
          "name": "stdout",
          "text": [
            "404\n"
          ]
        }
      ]
    }
  ]
}